{
 "cells": [
  {
   "cell_type": "code",
   "execution_count": 1,
   "metadata": {
    "_cell_guid": "b1076dfc-b9ad-4769-8c92-a6c4dae69d19",
    "_uuid": "8f2839f25d086af736a60e9eeb907d3b93b6e0e5",
    "execution": {
     "iopub.execute_input": "2021-11-08T08:00:17.35214Z",
     "iopub.status.busy": "2021-11-08T08:00:17.351637Z",
     "iopub.status.idle": "2021-11-08T08:00:17.385952Z",
     "shell.execute_reply": "2021-11-08T08:00:17.385006Z",
     "shell.execute_reply.started": "2021-11-08T08:00:17.352085Z"
    }
   },
   "outputs": [
    {
     "name": "stdout",
     "output_type": "stream",
     "text": [
      "---Decision Tree on breast cancer dataset---\n",
      "Accuracy: 0.89 \n",
      "\n",
      "[[ 37   2]\n",
      " [ 17 113]]\n"
     ]
    }
   ],
   "source": [
    "# ---第 1 部分---\n",
    "# 載入函式庫與資料\n",
    "from sklearn.tree import DecisionTreeClassifier\n",
    "from sklearn.datasets import load_breast_cancer\n",
    "from sklearn import metrics\n",
    "bc = load_breast_cancer()\n",
    "\n",
    "# ---第 2 部分---\n",
    "# 把資料分為訓練資料集與驗證資料集\n",
    "train_x, train_y = bc.data[:400], bc.target[:400]\n",
    "test_x, test_y = bc.data[400:], bc.target[400:]\n",
    "\n",
    "# ---第3 部分---\n",
    "# 初始化、訓練並評估模型\n",
    "tree = DecisionTreeClassifier(random_state = 0, max_depth = 2)\n",
    "tree.fit(train_x, train_y)\n",
    "acc = metrics.accuracy_score(test_y, tree.predict(test_x))\n",
    "\n",
    "# ---第 4部分---\n",
    "# 顯示模型訓練結果\n",
    "print('---Decision Tree on breast cancer dataset---')\n",
    "print('Accuracy: %.2f \\n'%acc)\n",
    "print(metrics.confusion_matrix(test_y, tree.predict(test_x)))"
   ]
  },
  {
   "cell_type": "code",
   "execution_count": 2,
   "metadata": {
    "execution": {
     "iopub.execute_input": "2021-11-08T08:04:55.407797Z",
     "iopub.status.busy": "2021-11-08T08:04:55.407106Z",
     "iopub.status.idle": "2021-11-08T08:04:56.323132Z",
     "shell.execute_reply": "2021-11-08T08:04:56.321965Z",
     "shell.execute_reply.started": "2021-11-08T08:04:55.407746Z"
    }
   },
   "outputs": [
    {
     "ename": "ModuleNotFoundError",
     "evalue": "No module named 'graphviz'",
     "output_type": "error",
     "traceback": [
      "\u001b[1;31m---------------------------------------------------------------------------\u001b[0m",
      "\u001b[1;31mModuleNotFoundError\u001b[0m                       Traceback (most recent call last)",
      "\u001b[1;32m~\\AppData\\Local\\Temp\\ipykernel_4568\\496831026.py\u001b[0m in \u001b[0;36m<module>\u001b[1;34m\u001b[0m\n\u001b[0;32m      1\u001b[0m \u001b[1;32mfrom\u001b[0m \u001b[0msklearn\u001b[0m\u001b[1;33m.\u001b[0m\u001b[0mtree\u001b[0m \u001b[1;32mimport\u001b[0m \u001b[0mexport_graphviz\u001b[0m\u001b[1;33m\u001b[0m\u001b[1;33m\u001b[0m\u001b[0m\n\u001b[1;32m----> 2\u001b[1;33m \u001b[1;32mimport\u001b[0m \u001b[0mgraphviz\u001b[0m\u001b[1;33m\u001b[0m\u001b[1;33m\u001b[0m\u001b[0m\n\u001b[0m\u001b[0;32m      3\u001b[0m dot = export_graphviz(tree, \n\u001b[0;32m      4\u001b[0m                       \u001b[0mfeature_names\u001b[0m \u001b[1;33m=\u001b[0m \u001b[0mbc\u001b[0m\u001b[1;33m.\u001b[0m\u001b[0mfeature_names\u001b[0m\u001b[1;33m,\u001b[0m\u001b[1;33m\u001b[0m\u001b[1;33m\u001b[0m\u001b[0m\n\u001b[0;32m      5\u001b[0m                       \u001b[0mclass_names\u001b[0m \u001b[1;33m=\u001b[0m \u001b[0mbc\u001b[0m\u001b[1;33m.\u001b[0m\u001b[0mtarget_names\u001b[0m\u001b[1;33m,\u001b[0m\u001b[1;33m\u001b[0m\u001b[1;33m\u001b[0m\u001b[0m\n",
      "\u001b[1;31mModuleNotFoundError\u001b[0m: No module named 'graphviz'"
     ]
    }
   ],
   "source": [
    "from sklearn.tree import export_graphviz\n",
    "import graphviz\n",
    "dot = export_graphviz(tree, \n",
    "                      feature_names = bc.feature_names, \n",
    "                      class_names = bc.target_names, \n",
    "                      impurity = False)\n",
    "graphviz.Source(dot)"
   ]
  },
  {
   "cell_type": "code",
   "execution_count": null,
   "metadata": {},
   "outputs": [],
   "source": []
  }
 ],
 "metadata": {
  "kernelspec": {
   "display_name": "Python 3 (ipykernel)",
   "language": "python",
   "name": "python3"
  },
  "language_info": {
   "codemirror_mode": {
    "name": "ipython",
    "version": 3
   },
   "file_extension": ".py",
   "mimetype": "text/x-python",
   "name": "python",
   "nbconvert_exporter": "python",
   "pygments_lexer": "ipython3",
   "version": "3.9.13"
  }
 },
 "nbformat": 4,
 "nbformat_minor": 4
}
